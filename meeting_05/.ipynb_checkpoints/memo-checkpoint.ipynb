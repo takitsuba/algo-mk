{
 "cells": [
  {
   "cell_type": "markdown",
   "metadata": {},
   "source": [
    "# 3.4.2 Response Measurement\n",
    "The response modeling framework provides a basic tool for response prediction."
   ]
  },
  {
   "cell_type": "markdown",
   "metadata": {},
   "source": [
    "response modeling frameworkは応答予測の基本ツールを提供する"
   ]
  },
  {
   "cell_type": "markdown",
   "metadata": {},
   "source": [
    " The counterpart of this framework is a measurement framework that can be used to evaluate the results of a campaign – did it really help to acquire new customers, did it make existing customers spend more, or did it help to improve retention rates?"
   ]
  },
  {
   "cell_type": "markdown",
   "metadata": {},
   "source": [
    "このフレームワークの対応はキャンペーンの結果を評価するのに用いることのできる計測フレームワークだ。ほんとうに新規顧客を獲得するのに役立ったのか、既存顧客の単価を上げたのか、継続率を改善するのを助けたか、などだ"
   ]
  },
  {
   "cell_type": "markdown",
   "metadata": {},
   "source": [
    " We want to measure the effectiveness in terms of the ROI, which is defined as the incremental gain delivered by the campaign relative to the no-action strategy."
   ]
  },
  {
   "cell_type": "markdown",
   "metadata": {},
   "source": [
    "- ROIの面ではその効果を測りたい。\n",
    "- ROIの定義: 何もしないという戦略に比べて、そのキャンペーンによって得られた増分の利得"
   ]
  },
  {
   "cell_type": "markdown",
   "metadata": {},
   "source": [
    " This approach is consistent with the principles of life-cycle- based targeting and uplift modeling that we stated in the previous section."
   ]
  },
  {
   "cell_type": "markdown",
   "metadata": {},
   "source": [
    "- このアプローチはライフサイクルに基づくターゲティングと前のセクションで述べたuplift modelingの原理と一致している"
   ]
  },
  {
   "cell_type": "markdown",
   "metadata": {},
   "source": [
    "---\n",
    "---"
   ]
  },
  {
   "cell_type": "markdown",
   "metadata": {},
   "source": [
    "The standard approach to measure the incremental gains is to compare the performance of two groups of consumers: ones who received the promotion (test group) and ones who did not receive it (control group)."
   ]
  },
  {
   "cell_type": "markdown",
   "metadata": {},
   "source": [
    "- 増加収益を測る基本的なアプローチは、二つの消費者グループを比較すること。\n",
    "- 一つはpromotionを受け取ったグループ（テスト群）、もう一つはpromotionを受けとったグループ（比較群）"
   ]
  },
  {
   "cell_type": "markdown",
   "metadata": {},
   "source": [
    "If we have a targeting model in place, both groups are typically selected from the high-propensity customers to make sure that the groups are statistically consistent and that the measured uplift reflects the impact of the promotion, regardless of the targeting strategy."
   ]
  },
  {
   "cell_type": "markdown",
   "metadata": {},
   "source": [
    "- もし適当な位置にターゲティングモデルをもっていたら、両方の群は強い傾向の消費者から、一般的に選ばれる。\n",
    " - 強い傾向というのは、promotionを何度も受けた、全く受けてない、の両群ということだろうか。\n",
    "- これは、ターゲティング戦略に関係なく、グループが統計的に一貫していること、計測された上昇値がpromotionのインパクトを反映していることを確実にするという目的。"
   ]
  },
  {
   "cell_type": "markdown",
   "metadata": {},
   "source": [
    " This approach is typically implemented by excluding a small percentage of customers from the targeted audience at the very end of the targeting process, as illustrated in Figure 3.8."
   ]
  },
  {
   "cell_type": "markdown",
   "metadata": {},
   "source": [
    "- このアプローチはターゲティングプロセスの最後の最後のtargeted audienceから少しのパーセントを除外するように実装されるのが一般的。\n",
    "- 図の3.8参照"
   ]
  },
  {
   "cell_type": "markdown",
   "metadata": {},
   "source": [
    "---\n",
    "---"
   ]
  },
  {
   "cell_type": "markdown",
   "metadata": {},
   "source": [
    "The performance of the groups is compared over some period of time that follows the campaign and is typically as long as several purchase cycles for a given product category to obtain stable results. "
   ]
  },
  {
   "cell_type": "markdown",
   "metadata": {},
   "source": [
    "- グループのパフォーマンスは、キャンペーン後のいくつかの期間にまたがって比較される。\n",
    "- 一般的には、与えられた商品カテごりの購入サイクルの何期間分か比較される。安定した結果を得るために。"
   ]
  },
  {
   "cell_type": "markdown",
   "metadata": {},
   "source": [
    "Note that this approach does not require individual promotion redemptions to be tracked – we do not care about the redemption rate and simply need to compare the expenditures between the two groups."
   ]
  },
  {
   "cell_type": "markdown",
   "metadata": {},
   "source": [
    "- このアプローチは個々のプロモーションの履行が追跡されることを必要としない。\n",
    "- 履行率についてきにする必要はなく、単に2つのグループの支出を比較することが求められる。"
   ]
  },
  {
   "cell_type": "markdown",
   "metadata": {},
   "source": [
    " This can be a very convenient property if the redemption data is not available. We will return to the statistical details of measurements at the end of this chapter."
   ]
  },
  {
   "cell_type": "markdown",
   "metadata": {},
   "source": [
    "- 履行のデータが使用できなければ、これはとても便利な特性だ。\n",
    "- この章の最後で、計測についての統計的な詳細について戻ってくる"
   ]
  },
  {
   "cell_type": "markdown",
   "metadata": {},
   "source": [
    "---\n",
    "---"
   ]
  },
  {
   "cell_type": "markdown",
   "metadata": {},
   "source": [
    "# 3.5 building blocks: targeting and ltv models\n",
    "Targeting models and lifetime value (LTV) models are the basic building blocks of the targeting process. The purpose of a targeting model is to quantify the fitness of a given consumer for a given business objective in a given context. "
   ]
  },
  {
   "cell_type": "markdown",
   "metadata": {},
   "source": [
    "- ターゲティングモデルとLTVモデルはターゲティングのプロセスの基本的な基礎的要素。\n",
    "- ターゲティングモデルの目的は、ある状況における、ビジネスの目的と、ある消費者との適合性を測ることである。"
   ]
  },
  {
   "cell_type": "markdown",
   "metadata": {},
   "source": [
    "For example, a model can score the fitness of a consumer for a potato chips promotional campaign given that the promotion will be sent tomorrow by SMS."
   ]
  },
  {
   "cell_type": "markdown",
   "metadata": {},
   "source": [
    "例えばモデルは、明日SMSでpromotionが送信されるというポテチのpromotional campaignと消費者の適合性を測ることができる。"
   ]
  },
  {
   "cell_type": "markdown",
   "metadata": {},
   "source": [
    " Models can be created for different objectives and contexts, and a targeting system often maintains a repository of models attributed with the corresponding metadata, so that relevant models can be fetched according to the criteria. "
   ]
  },
  {
   "cell_type": "markdown",
   "metadata": {},
   "source": [
    "モデルは異なる目的・状況のために作ることができる。ターゲティングシステムは対応するメタデータを持つモデルの保管場所を管理することが多い。そのため、関係のあるモデルは基準に従って選択される。"
   ]
  },
  {
   "cell_type": "markdown",
   "metadata": {},
   "source": [
    "For example, one can have a model for acquisition campaigns in the potato chips category and another one for maximization campaigns in the soda drinks category."
   ]
  },
  {
   "cell_type": "markdown",
   "metadata": {},
   "source": [
    "例えば、ポテトチップカテゴリの獲得キャンペーンに用いるモデルと、炭酸飲料カテゴリの最大化キャンペーンのモデルがあるとする。"
   ]
  },
  {
   "cell_type": "markdown",
   "metadata": {},
   "source": [
    "Models are the basic primitives that can be combined with each other, as well as with other building blocks, to create more complex programmatic flows."
   ]
  },
  {
   "cell_type": "markdown",
   "metadata": {},
   "source": [
    "- より複雑なプログラムのフローを作るために、モデルはそれぞれ基本的で原始的なものになっている。モデル同士や他のブロックと混合するため。"
   ]
  },
  {
   "cell_type": "markdown",
   "metadata": {},
   "source": [
    " Marketing campaigns can be assembled from models, and marketing portfolios can be assembled from campaigns."
   ]
  },
  {
   "cell_type": "markdown",
   "metadata": {},
   "source": [
    "- マーケティングキャンペーンはモデルから作ることができ、マーケティングポートフォリオはキャンペーンから組み立てることができる"
   ]
  },
  {
   "cell_type": "markdown",
   "metadata": {},
   "source": [
    "---\n",
    "---"
   ]
  },
  {
   "cell_type": "markdown",
   "metadata": {},
   "source": [
    "It should be stressed that a programmatic system can use models both in predictive and prescriptive ways. "
   ]
  },
  {
   "cell_type": "markdown",
   "metadata": {},
   "source": [
    "- プログラマティックシステムは、予測し、指令を与える手段の両方にモデルを用いることができる。\n",
    "- これは強調すべきだろう。"
   ]
  },
  {
   "cell_type": "markdown",
   "metadata": {},
   "source": [
    "The most direct application is prediction of consumer properties, such as propensity to respond to an email or expected lifetime profit.\n"
   ]
  },
  {
   "cell_type": "markdown",
   "metadata": {},
   "source": [
    "最も直接的な利用は消費者の特性の予測である。Emailに反応する傾向や、予想生涯収益などである。"
   ]
  },
  {
   "cell_type": "markdown",
   "metadata": {},
   "source": [
    " Many models, however, express the dependency between inputs and outputs in a relatively transparent way, so the system can contain additional logic that uses this prescriptive insight or can at least make some recommendations to the marketer. "
   ]
  },
  {
   "cell_type": "markdown",
   "metadata": {},
   "source": [
    "- しかし、多くのモデルはinputとoutput間の依存関係を比較的トランスペアレントな方法で表現する。\n",
    "- "
   ]
  },
  {
   "cell_type": "markdown",
   "metadata": {},
   "source": [
    "For instance, the parameters of a regression model that pre- dicts a response can indicate a positive or negative correlation with specific communication channels or other parameters, and this insight can be used to make additional adjustments, such as limiting the number of communications in the presence of a negative correlation. "
   ]
  },
  {
   "cell_type": "markdown",
   "metadata": {},
   "source": [
    "In this section, we consider three major categories of models that can be used separately or together:"
   ]
  },
  {
   "cell_type": "markdown",
   "metadata": {},
   "source": [
    "このセクションでは、別々に、もしくは一緒に用いられている、3つの主なモデルのカテゴリについて考える。"
   ]
  },
  {
   "cell_type": "markdown",
   "metadata": {},
   "source": [
    "propensity models:The idea of propensity models is to estimate the probability of a consumer to do a certain action, such a purchase of certain product. The output of such models is a score proportional to the probability that can be used to make targeting decisions."
   ]
  },
  {
   "cell_type": "markdown",
   "metadata": {},
   "source": [
    "- 傾向モデル(propensity model) : 消費者がある行動(ある商品を購入するなど)を起こす確率を見積もるという考えのモデル。\n",
    "- このモデルのアウトプットは、ターゲティングの決定をするための確率に比例したスコアになる。"
   ]
  },
  {
   "cell_type": "markdown",
   "metadata": {},
   "source": [
    "time-to-event models : Propensity models can estimate the probability of the event, but they do not explicitly estimate when the event is most likely to happen. This type of estimate is more valuable in many marketing applications and requires a different statistical framework to be used."
   ]
  },
  {
   "cell_type": "markdown",
   "metadata": {},
   "source": [
    "- time to event models: 傾向モデルはイベントの起こる確率を推定できた。しかし、そのイベントがいつ起こりそうかをはっきり予測することはできない。この種の推定はマーケティングアプリケーションで有用で、異なる統計フレームワークを用いる必要がある"
   ]
  },
  {
   "cell_type": "markdown",
   "metadata": {},
   "source": [
    "lifetime value models: LTV models are used to quantify the value of a customer and estimate the impact of marketing actions."
   ]
  },
  {
   "cell_type": "markdown",
   "metadata": {},
   "source": [
    "- lifetime value model : LTVモデルは消費者の価値を定量化するためにもちいられ、マーケティングアクションのインパクトを推定する。"
   ]
  },
  {
   "cell_type": "markdown",
   "metadata": {},
   "source": [
    "We start with a review of the data elements and data sources used in modeling and then discuss several traditional methods that can be viewed as heuristic propensity and LTV estimation models."
   ]
  },
  {
   "cell_type": "markdown",
   "metadata": {},
   "source": [
    "- モデリングに用いられるデータ要素とデータソースの論評を始める。そしてヒューリスティック傾向モデルとLTV推定モデルと考えられる、いくつかの伝統的な手法について議論する。"
   ]
  },
  {
   "cell_type": "markdown",
   "metadata": {},
   "source": [
    " These methods typically make the assumption that the probability of responding and the value of a customer are proportional to one or several basic characteristics, such as the frequency of purchases. "
   ]
  },
  {
   "cell_type": "markdown",
   "metadata": {},
   "source": [
    "- これらの手法は典型的には、反応する確率や消費者の価値は一つないしいくつかの基本的な特徴（購入頻度など）に比例するという仮説を生む。"
   ]
  },
  {
   "cell_type": "markdown",
   "metadata": {},
   "source": [
    "The methods then group customers into segments so that an entire segment can be included or excluded from a certain campaign."
   ]
  },
  {
   "cell_type": "markdown",
   "metadata": {},
   "source": [
    "手法は消費者をいくつかのセグメントにグルーピングする、そして全てのセグメントがあるキャンペーンに含まれる、ないし、除かれる。(?)"
   ]
  },
  {
   "cell_type": "markdown",
   "metadata": {},
   "source": [
    " These methods can be thought of as rule-based targeting. We then develop more advanced models with statistical methods."
   ]
  },
  {
   "cell_type": "markdown",
   "metadata": {},
   "source": [
    "これらの手法はルールベースのターゲティングと考えられる。私たちは統計手法を用いたより進んだモデルを開発する。"
   ]
  },
  {
   "cell_type": "markdown",
   "metadata": {},
   "source": [
    "# 3.5.1 Data Collection\n",
    "Data collection and preparation is one of the most important and challenging phases of modeling. "
   ]
  },
  {
   "cell_type": "markdown",
   "metadata": {},
   "source": [
    "- データ収集と前処理は最も重要でチャレンジングな段階だ。"
   ]
  },
  {
   "cell_type": "markdown",
   "metadata": {},
   "source": [
    "Although a detailed discussion of data preparation methodologies is beyond the scope of this book, it is worth reviewing a few principles that can help to streamline the process and avoid incorrect modeling. "
   ]
  },
  {
   "cell_type": "markdown",
   "metadata": {},
   "source": [
    "データの前処理の方法論についての詳細な議論はこの本のスコープを超えているが、プロセスの効率化や誤ったモデリングを助けるいくつかの原理について論評することは価値がある。"
   ]
  },
  {
   "cell_type": "markdown",
   "metadata": {},
   "source": [
    "Targeting and LTV models generally aim to predict consumer behavior as a function of observed metrics and properties, so it is important to collect and use data in way that is consistent with causal dependencies. "
   ]
  },
  {
   "cell_type": "markdown",
   "metadata": {},
   "source": [
    "ターゲティングとLTVのモデルは一般的に、実際の指標や特性の関数のように、消費者の行動を予測することを目指す。そのため、因果関係のしっかりしたやり方でデータを集め用いることが大事。"
   ]
  },
  {
   "cell_type": "markdown",
   "metadata": {},
   "source": [
    "From this perspective, data elements can be arranged by tiers, with each tier depending on the previous ones [Grigsby, 2016]:"
   ]
  },
  {
   "cell_type": "markdown",
   "metadata": {},
   "source": [
    "この視点から、データ要素は段々に配置されていて、それぞれの段は1つ前の段に依存している"
   ]
  },
  {
   "cell_type": "markdown",
   "metadata": {},
   "source": [
    "primary motivations: Consumer behavior is driven by fundamental factors such as valuation of a product or service, tastes, needs, lifestyle, and preferences. "
   ]
  },
  {
   "cell_type": "markdown",
   "metadata": {},
   "source": [
    "最初の動機：消費者の行動は基礎的な因子（プロダクトやサービスの評価、好み、欲求、ライフスタイル、そして好み）に突き動かされる。"
   ]
  },
  {
   "cell_type": "markdown",
   "metadata": {},
   "source": [
    "Many such attributes cannot be observed directly, but some data such as demographics or marketing channel preferences can be collected through loyalty program registration forms and surveys or purchased from third-party data providers."
   ]
  },
  {
   "cell_type": "markdown",
   "metadata": {},
   "source": [
    "そのような特性は直接は観測されない、しかし、人口統計データやマーケティングチャネルの好みのようなデータはポイントサービス（loyalty program)の登録しのフォームや調査から集めることができ、もしくはサードパーティデータの提供会社から購入することもできる。"
   ]
  },
  {
   "cell_type": "markdown",
   "metadata": {},
   "source": [
    "experiential motivations： The next tier of properties is created by the interaction between a customer and a brand. "
   ]
  },
  {
   "cell_type": "markdown",
   "metadata": {},
   "source": [
    "経験的動機：特性の次の段は消費者とブランド間の相互作用によって創られる。"
   ]
  },
  {
   "cell_type": "markdown",
   "metadata": {},
   "source": [
    "These properties characterize the overall customer experience, including customer satisfaction, loyalty, and usage patterns. "
   ]
  },
  {
   "cell_type": "markdown",
   "metadata": {},
   "source": [
    "これらの特性は消費者の経験全体（消費者満足、忠誠度、利用パターン）を特徴付ける。"
   ]
  },
  {
   "cell_type": "markdown",
   "metadata": {},
   "source": [
    "Some of the experiential properties can be directly or indirectly quantified by using metrics like frequency of purchases."
   ]
  },
  {
   "cell_type": "markdown",
   "metadata": {},
   "source": [
    "経験的特徴は、購入頻度のようなメトリクスを用いることで、直接的、または間接的に定量化できる"
   ]
  },
  {
   "cell_type": "markdown",
   "metadata": {},
   "source": [
    "# p96"
   ]
  },
  {
   "cell_type": "markdown",
   "metadata": {},
   "source": [
    "behaviors: The most important category of data is explicitly observed behavioral data, such as purchases, website visits, browsing history, and email clicks. These data often capture interactions with individual products at specific points in time. Behavioral data carry the most important signals needed for modeling.\n",
    "results Finally,customeractionsresultindirectlyobservedfinancial metrics, such as revenue or profits. It is important to keep in mind that these metrics do not really explain the drivers of the customer behavior and the ways it can be influenced; they merely register the final outcomes."
   ]
  },
  {
   "cell_type": "code",
   "execution_count": null,
   "metadata": {},
   "outputs": [],
   "source": []
  },
  {
   "cell_type": "code",
   "execution_count": null,
   "metadata": {},
   "outputs": [],
   "source": []
  },
  {
   "cell_type": "code",
   "execution_count": null,
   "metadata": {},
   "outputs": [],
   "source": []
  }
 ],
 "metadata": {
  "kernelspec": {
   "display_name": "Python 3",
   "language": "python",
   "name": "python3"
  },
  "language_info": {
   "codemirror_mode": {
    "name": "ipython",
    "version": 3
   },
   "file_extension": ".py",
   "mimetype": "text/x-python",
   "name": "python",
   "nbconvert_exporter": "python",
   "pygments_lexer": "ipython3",
   "version": "3.6.3"
  }
 },
 "nbformat": 4,
 "nbformat_minor": 2
}
