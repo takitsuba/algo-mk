{
 "cells": [
  {
   "cell_type": "markdown",
   "metadata": {},
   "source": [
    "3.4.2 Response Measurement\n",
    "The response modeling framework provides a basic tool for response prediction. The counterpart of this framework is a measurement frame- work that can be used to evaluate the results of a campaign – did it really help to acquire new customers, did it make existing customers spend more, or did it help to improve retention rates? We want to measure the effectiveness in terms of the ROI, which is defined as the incremental gain delivered by the campaign relative to the no-action strategy. This approach is consistent with the principles of life-cycle- based targeting and uplift modeling that we stated in the previous section."
   ]
  },
  {
   "cell_type": "markdown",
   "metadata": {},
   "source": [
    "---\n",
    "---"
   ]
  },
  {
   "cell_type": "markdown",
   "metadata": {},
   "source": [
    "The standard approach to measure the incremental gains is to com- pare the performance of two groups of consumers: ones who received the promotion (test group) and ones who did not receive it (control group). If we have a targeting model in place, both groups are typi- cally selected from the high-propensity customers to make sure that the groups are statistically consistent and that the measured uplift re- flects the impact of the promotion, regardless of the targeting strategy. This approach is typically implemented by excluding a small percent- age of customers from the targeted audience at the very end of the targeting process, as illustrated in Figure 3.8.\n",
    "                                                                                                                      Figure 3.8: Measuring promotion effectiveness with test and control groups.\n",
    "The performance of the groups is compared over some period of time that follows the campaign and is typically as long as several pur- chase cycles for a given product category to obtain stable results. Note that this approach does not require individual promotion redemptions to be tracked – we do not care about the redemption rate and simply\n",
    "94\n",
    "promotions and advertisements\n",
    "need to compare the expenditures between the two groups. This can be a very convenient property if the redemption data is not available. We will return to the statistical details of measurements at the end of this chapter.\n",
    "3.5 building blocks: targeting and ltv models\n",
    "Targeting models and lifetime value (LTV) models are the basic build- ing blocks of the targeting process. The purpose of a targeting model is to quantify the fitness of a given consumer for a given business ob- jective in a given context. For example, a model can score the fitness of a consumer for a potato chips promotional campaign given that the promotion will be sent tomorrow by SMS. Models can be created for different objectives and contexts, and a targeting system often main- tains a repository of models attributed with the corresponding meta- data, so that relevant models can be fetched according to the criteria. For example, one can have a model for acquisition campaigns in the potato chips category and another one for maximization campaigns in the soda drinks category. Models are the basic primitives that can be combined with each other, as well as with other building blocks, to cre- ate more complex programmatic flows. Marketing campaigns can be assembled from models, and marketing portfolios can be assembled from campaigns.\n",
    "It should be stressed that a programmatic system can use models both in predictive and prescriptive ways. The most direct application is prediction of consumer properties, such as propensity to respond to an email or expected lifetime profit. Many models, however, express the dependency between inputs and outputs in a relatively transpar- ent way, so the system can contain additional logic that uses this pre- scriptive insight or can at least make some recommendations to the marketer. For instance, the parameters of a regression model that pre- dicts a response can indicate a positive or negative correlation with specific communication channels or other parameters, and this insight can be used to make additional adjustments, such as limiting the num- ber of communications in the presence of a negative correlation. In this section, we consider three major categories of models that can be used separately or together:\n",
    "propensity models The idea of propensity models is to estimate the probability of a consumer to do a certain action, such a pur- chase of certain product. The output of such models is a score proportional to the probability that can be used to make target- ing decisions.\n",
    "3.5 building blocks: targeting and ltv models 95\n",
    "time-to-event models Propensity models can estimate the proba- bility of the event, but they do not explicitly estimate when the event is most likely to happen. This type of estimate is more valuable in many marketing applications and requires a different statistical framework to be used.\n",
    "lifetime value models LTV models are used to quantify the value of a customer and estimate the impact of marketing actions.\n",
    "We start with a review of the data elements and data sources used in modeling and then discuss several traditional methods that can be viewed as heuristic propensity and LTV estimation models. These methods typically make the assumption that the probability of responding and the value of a customer are proportional to one or several basic characteristics, such as the frequency of purchases. The methods then group customers into segments so that an entire segment can be included or excluded from a certain campaign. These methods can be thought of as rule-based targeting. We then develop more advanced models with statistical methods.\n",
    "3.5.1 Data Collection\n",
    "Data collection and preparation is one of the most important and chal- lenging phases of modeling. Although a detailed discussion of data preparation methodologies is beyond the scope of this book, it is worth reviewing a few principles that can help to streamline the process and avoid incorrect modeling. Targeting and LTV models generally aim to predict consumer behavior as a function of observed metrics and properties, so it is important to collect and use data in way that is con- sistent with causal dependencies. From this perspective, data elements can be arranged by tiers, with each tier depending on the previous ones [Grigsby, 2016]:\n",
    "primary motivations Consumer behavior is driven by fundamen- tal factors such as valuation of a product or service, tastes, needs, lifestyle, and preferences. Many such attributes cannot be ob- served directly, but some data such as demographics or market- ing channel preferences can be collected through loyalty program registration forms and surveys or purchased from third-party data providers.\n",
    "experiential motivations The next tier of properties is created by the interaction between a customer and a brand. These proper- ties characterize the overall customer experience, including cus- tomer satisfaction, loyalty, and usage patterns. Some of the ex-\n",
    "96\n",
    "promotions and advertisements\n",
    "periential properties can be directly or indirectly quantified by using metrics like frequency of purchases.\n",
    "b e h av i o r s The most important category of data is explicitly observed behavioral data, such as purchases, website visits, browsing history, and email clicks. These data often capture interactions with individual products at specific points in time. Behavioral data carry the most important signals needed for modeling.\n",
    "results Finally,customeractionsresultindirectlyobservedfinancial metrics, such as revenue or profits. It is important to keep in mind that these metrics do not really explain the drivers of the customer behavior and the ways it can be influenced; they merely register the final outcomes."
   ]
  },
  {
   "cell_type": "code",
   "execution_count": null,
   "metadata": {},
   "outputs": [],
   "source": []
  }
 ],
 "metadata": {
  "kernelspec": {
   "display_name": "Python 3",
   "language": "python",
   "name": "python3"
  },
  "language_info": {
   "codemirror_mode": {
    "name": "ipython",
    "version": 3
   },
   "file_extension": ".py",
   "mimetype": "text/x-python",
   "name": "python",
   "nbconvert_exporter": "python",
   "pygments_lexer": "ipython3",
   "version": "3.6.3"
  }
 },
 "nbformat": 4,
 "nbformat_minor": 2
}
