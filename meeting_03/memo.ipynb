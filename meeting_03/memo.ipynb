{
 "cells": [
  {
   "cell_type": "markdown",
   "metadata": {},
   "source": [
    "# 43-44\n",
    "- This is a square symmetric m   m matrix in which the diagonal el- ements are the variance of the corresponding features and the off- diagonal elements are the covariance between the features. \n",
    "- mxmの平方行列。対角線は対象の特徴の分散。それ以外は各特徴量同士の共分散。\n",
    "\n",
    "- The features are decorrelated if the covariance matrix is diagonal, that is, all off-diagonal elements in C are zeros. \n",
    "\n",
    "- 非対角線が全てゼロなら、特徴量はそれぞれ無相関である。\n",
    "\n",
    "\n",
    "- If the covariance matrix is not review of predictive modeling diagonal, the features are correlated, which makes it more difficult to understand the distribution of x because it cannot be described in terms of distributions of individual features. "
   ]
  },
  {
   "cell_type": "markdown",
   "metadata": {},
   "source": [
    "- （謎）共分散行列が対角行列でないなら、特徴量は相関している。それはxの分布を理解するのをより難しくする。なぜなら、ここの特徴の分布を表現できないから？"
   ]
  },
  {
   "cell_type": "markdown",
   "metadata": {},
   "source": [
    "- Our next step is to find the transformation of X that produces a different n   m design matrix Z in which the covariance matrix is diagonal."
   ]
  },
  {
   "cell_type": "markdown",
   "metadata": {},
   "source": [
    "- Xの変換を見つける。n x mのZという計画行列を作るような。（この行列がどんなものかは後で調べる）"
   ]
  },
  {
   "cell_type": "markdown",
   "metadata": {},
   "source": [
    "- In the PCA approach, we make an assumption that this matrix can be obtained by using a linear transformation\n",
    "Z = XT (2.64)\n",
    "in which T is the transformation matrix. "
   ]
  },
  {
   "cell_type": "markdown",
   "metadata": {},
   "source": [
    "- PCAのアプローチではZは線形変換で得ることができる。"
   ]
  },
  {
   "cell_type": "markdown",
   "metadata": {},
   "source": [
    "- To construct this matrix, let us first show how the design matrix can be factorized on the basis of vectors that correspond to the directions of maximum variance in the design matrix."
   ]
  },
  {
   "cell_type": "markdown",
   "metadata": {},
   "source": [
    "- この行列を作るには、はじめに、計画行列が行列における最大の分散の方向に対応するようなベクトルの基底に、どのように因数分解されるか"
   ]
  },
  {
   "cell_type": "markdown",
   "metadata": {},
   "source": [
    "---"
   ]
  },
  {
   "cell_type": "markdown",
   "metadata": {},
   "source": [
    "- The first step of factorization is to find the directions of maximum variance in the data. "
   ]
  },
  {
   "cell_type": "markdown",
   "metadata": {},
   "source": [
    "- 因数分解の最初はデータの中で分散が最大の方向を見つけること"
   ]
  },
  {
   "cell_type": "markdown",
   "metadata": {},
   "source": [
    "- These directions can be thought of as the main axes of the point cloud in a scatter plot, as illustrated in Figure 2.8. "
   ]
  },
  {
   "cell_type": "markdown",
   "metadata": {},
   "source": [
    "- これらの方向は散布図の点におけるメインの軸と考えられる。"
   ]
  },
  {
   "cell_type": "markdown",
   "metadata": {},
   "source": [
    "- Each of these directions can be defined as a vector, so we start by finding an m-dimensional unit vector that satisfies the following condition:\n",
    "v1   argmax ∥Xv∥2 , ∥v∥   1 (2.65) v\n"
   ]
  },
  {
   "cell_type": "markdown",
   "metadata": {},
   "source": [
    "これらの方向はベクトルとして定義される。そして、下記の条件を満たすm次元のベクトルを1つ探す"
   ]
  },
  {
   "cell_type": "markdown",
   "metadata": {},
   "source": [
    "This vector corresponds to the axis with maximum variance. Next, we find a second unit vector that is orthogonal to the first one to capture the remaining variance:\n",
    "v2  argmax ∥Xv∥2, ∥v∥ 1 and v v1  0 (2.66) v"
   ]
  },
  {
   "cell_type": "markdown",
   "metadata": {},
   "source": [
    "このベクトルは分散が最大の軸に対応する。次に、一つ目のベクトルに直行する単位ベクトルを見つける。残った分散を捉えるため。\n"
   ]
  },
  {
   "cell_type": "markdown",
   "metadata": {},
   "source": [
    "We continue this process by requiring each vector to be orthogonal to all previous ones, and, assuming that the design matrix has rank r, we can create as many as r non-zero vectors v."
   ]
  },
  {
   "cell_type": "markdown",
   "metadata": {},
   "source": [
    "このプロセスをこれまでのベクトル全てに直行するそれぞれのベクトルを求めることで続ける。計画行列(design matrix)はrank rを持つことを仮定し、ノンゼロベクトルvをrも作ることができる"
   ]
  },
  {
   "cell_type": "markdown",
   "metadata": {},
   "source": [
    "By construction, each vector corresponds to the axis with maximum remaining variance in the design matrix. "
   ]
  },
  {
   "cell_type": "markdown",
   "metadata": {},
   "source": [
    "それぞれのベクトルは計画行列の中で、残った分散における最大の軸に対応している"
   ]
  },
  {
   "cell_type": "markdown",
   "metadata": {},
   "source": [
    "These vectors are referred to as the principal components of the design matrix."
   ]
  },
  {
   "cell_type": "markdown",
   "metadata": {},
   "source": [
    "これらのベクトルは計画行列の主成分と呼ばれる"
   ]
  },
  {
   "cell_type": "markdown",
   "metadata": {},
   "source": [
    "---"
   ]
  },
  {
   "cell_type": "markdown",
   "metadata": {},
   "source": [
    "Let us denote an m x r matrix assembled from column vectors v as V. "
   ]
  },
  {
   "cell_type": "markdown",
   "metadata": {},
   "source": [
    "行ベクトルvの集合したm x r行列をVとして示す。"
   ]
  },
  {
   "cell_type": "markdown",
   "metadata": {},
   "source": [
    "As all of the unit vectors that we have constructed are orthogonal, this matrix is column-orthonormal, that is\n",
    "VT V   I (2.67) "
   ]
  },
  {
   "cell_type": "markdown",
   "metadata": {},
   "source": [
    "直行するように作成した単位ベクトル全てのため、この行列は行で直行している。それはつまり、V^T V = Iである。"
   ]
  },
  {
   "cell_type": "markdown",
   "metadata": {},
   "source": [
    "Unit vectors v capture the directions of the variance but not its magni-\n",
    "tude. Let us calculate these values separately and denote them as\n",
    "σi   ∥Xvi∥ (2.68)"
   ]
  },
  {
   "cell_type": "markdown",
   "metadata": {},
   "source": [
    "単位ベクトルvは分散の方向を捉えているが、大きさは示していない。これらの大きさは別で計算し、下記と示す。"
   ]
  },
  {
   "cell_type": "markdown",
   "metadata": {},
   "source": [
    " Figure 2.8: Example of principal component analysis. (a) A data set of 500 nor- mally distributed points and the corresponding principal compo- nents. Features x1 and x2 are strongly correlated. (b) A decorrelated representation obtained by using PCA. Features z1 and z2 are not correlated."
   ]
  },
  {
   "cell_type": "markdown",
   "metadata": {},
   "source": [
    "例。PCAで相関をなくすと、z1z2の特徴は相関していない"
   ]
  },
  {
   "cell_type": "markdown",
   "metadata": {},
   "source": [
    "Each principal component captures only the remaining variance, so the value of σ is biggest for the first component and then decreases, in the order\n",
    "σ1 ¥σ2 ¥...¥σr (2.69) "
   ]
  },
  {
   "cell_type": "markdown",
   "metadata": {},
   "source": [
    "これらの主成分は残った分散を捉えている。シグマは最初の成分が最も大きくなり、徐々に低くなっていく"
   ]
  },
  {
   "cell_type": "markdown",
   "metadata": {},
   "source": [
    "Let us denote an r x r diagonal matrix with the σ values on the main\n",
    "diagonal as\n",
    "Σ   diagpσ1,...,σrq (2.70)"
   ]
  },
  {
   "cell_type": "markdown",
   "metadata": {},
   "source": [
    "r x rの対角行列で、対角成分がσ1、σ2...σrのものを考える"
   ]
  },
  {
   "cell_type": "markdown",
   "metadata": {},
   "source": [
    "---"
   ]
  },
  {
   "cell_type": "markdown",
   "metadata": {},
   "source": [
    "At this point, we have an orthonormal basis of vectors V and the corresponding scaling factors Σ. "
   ]
  },
  {
   "cell_type": "markdown",
   "metadata": {},
   "source": [
    "この時点で、ベクトルVの正規直交基底（orthonormal basis)と、それに対応するスケール因子Σを得た。"
   ]
  },
  {
   "cell_type": "markdown",
   "metadata": {},
   "source": [
    "To complete the factorization of the design matrix, we need a third factor that projects the design matrix onto the principal component basis or, alternatively, mixes the basis into the design matrix. "
   ]
  },
  {
   "cell_type": "markdown",
   "metadata": {},
   "source": [
    "計画行列の因数分解を完成させるために、私たちは、計画行列を主成分基底に写像する、あるいは、基底をまぜて計画行列を作る、3つ目の因子が必要となる。"
   ]
  },
  {
   "cell_type": "markdown",
   "metadata": {},
   "source": [
    "By denoting this factor as U, we can define the decomposition as\n",
    "X   UΣVT (2.71) for which U can be obtained by solving equation 2.71 with respect to\n",
    "this factor:\n",
    "U   XVΣ 1 (2.72)"
   ]
  },
  {
   "cell_type": "markdown",
   "metadata": {},
   "source": [
    "この因子をUとすると、分解を下記のように定義できる。（２．71) Uは方程式を解くことで下記と得られる。"
   ]
  },
  {
   "cell_type": "code",
   "execution_count": null,
   "metadata": {},
   "outputs": [],
   "source": []
  }
 ],
 "metadata": {
  "kernelspec": {
   "display_name": "Python 3",
   "language": "python",
   "name": "python3"
  },
  "language_info": {
   "codemirror_mode": {
    "name": "ipython",
    "version": 3
   },
   "file_extension": ".py",
   "mimetype": "text/x-python",
   "name": "python",
   "nbconvert_exporter": "python",
   "pygments_lexer": "ipython3",
   "version": "3.6.3"
  }
 },
 "nbformat": 4,
 "nbformat_minor": 2
}
