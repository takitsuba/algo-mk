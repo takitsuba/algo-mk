{
 "cells": [
  {
   "cell_type": "markdown",
   "metadata": {},
   "source": [
    "2.6.3 Auction Theory\n",
    "As we discussed in Chapter 1, the algorithmic approach facilitates the development of marketing services that can be offered to clients by ex- changes. An exchange or any other type of broker in between a service provider and service client adds an extra layer of complexity because both the provider and client should optimize their service buying and selling strategies, in addition to pursuit of the primary marketing ob- jectives.\n",
    "The basic goal of a service exchange is to enable competition be- tween buyers for a limited resource, such as advertisement placements. The standard approach to this problem is an auction where each buyer places a bid and the resource is auctioned off to the bidder with the maximum bid. However, auction settings and rules can be set up dif- ferently, so we need to spend some time discussing auction types.\n",
    "First, we have to acknowledge that the bidders participate in the auction because the auctioned resource has a certain value for each of them and they are aiming to make profits by buying the item below this valuation. Consequently, it is critically important for a bidder to estimate the value of the item correctly, and we can classify all auction settings by the following valuation types:"
   ]
  },
  {
   "cell_type": "markdown",
   "metadata": {},
   "source": [
    "### private value\n",
    "Each bidder evaluates the item independently from other bidders and the estimate does not depend on other bids, even if they are known."
   ]
  },
  {
   "cell_type": "markdown",
   "metadata": {},
   "source": [
    "- 私的価値\n",
    "- 入札者はそれぞれ他の入札者から独立して商品を評価する。たとえ知っていたとしても、価値の算定は他の入札に依存しない。"
   ]
  },
  {
   "cell_type": "markdown",
   "metadata": {},
   "source": [
    "### interdependent value\n",
    "The actual value is not known to the bidders, and, although each bidder has their own estimate of what the value is, information about other bids can help to improve the estimate."
   ]
  },
  {
   "cell_type": "markdown",
   "metadata": {},
   "source": [
    "- 相互に依存する価値\n",
    "- 実価は入札者に知られていない。そして、入札者はその価値に対する見積もりを持っているが、他の入札についての情報が、その見積もりを改善するのを助ける。"
   ]
  },
  {
   "cell_type": "markdown",
   "metadata": {},
   "source": [
    "For example, a bidder who highly values the resource might reduce their bid if other participants bid lower, because this additional information can indicate the presence of negative factors that are unknown to the given bidder but are somehow recognized by the others.\n",
    "common value This is a particular case of an interdependent value auction where the actual value is the same for all bidders. Exam- ples of common value auctions include selling natural resources such as oil or timber, selling financial assets such as bonds, or sell- ing a company. In all of these cases, the true value might not be precisely known at the auction time and bidders must estimate it based on the limited information that they have, but eventu- ally the value becomes known (actual amount of recoverable oil, long-term company performance, etc.) and it is the same for all participants."
   ]
  },
  {
   "cell_type": "markdown",
   "metadata": {},
   "source": [
    "---\n",
    "---"
   ]
  },
  {
   "cell_type": "markdown",
   "metadata": {},
   "source": [
    "Although the value is often interdependent to some degree, a bid- der’s ability to take advantage of knowing other bids depends on the auctioning process. The four main types of auctions studied in theory and used in practice are as follows:\n"
   ]
  },
  {
   "cell_type": "markdown",
   "metadata": {},
   "source": [
    "### open bid : Every bidder observes the value of all other bids.\n",
    "- Open ascending-price auction (English auction). The price starts at a low level and increases. At any point of time, a bidder can either stay or quit. The auction ends when only one bidder remains, and the winner pays the final price.\n",
    "- Open descending-price auction (Dutch auction). The price starts at a high level and decreases. The auction ends when any bidder accepts the current price."
   ]
  },
  {
   "cell_type": "markdown",
   "metadata": {},
   "source": [
    "- English Auctionは値段が上がっていくやつ。Dutch Auction は値段を下げていくやつ。"
   ]
  },
  {
   "cell_type": "markdown",
   "metadata": {},
   "source": [
    "### sealed bid : Bidders are unaware of what others have bid.\n",
    "- First-price sealed-bid auction. All bidders submit their bids simultaneously, so that no bidder knows the bid of the other participants. The bidder with the highest bid wins and pays the winning bid.\n",
    "- Second-price sealed-bid auction (Vickrey auction). Similarly to the first-price auction, all bidders submit their bids simultaneously and the bidder with the highest bid wins, but the winner pays the second highest bid."
   ]
  },
  {
   "cell_type": "markdown",
   "metadata": {},
   "source": [
    "- 封入入札：入札者は他が何を入札したか知らない\n",
    "- first price sealed bid auction : 全ての入札者は入札を同時に行う。そのため、他の参加者の入札がわからない。最も高い入札した人が勝ち、その金額を払う\n",
    "- Second price sealed bid auction (Vickrey auction) : first price auctionに似ているが、払うのは2番目に高い入札額。"
   ]
  },
  {
   "cell_type": "markdown",
   "metadata": {},
   "source": [
    "# p70"
   ]
  },
  {
   "cell_type": "markdown",
   "metadata": {},
   "source": [
    "Although the optimization problem for the open-bid auctions might seem dynamic, it is essentially static and equivalent to the sealed-bid auctions. "
   ]
  },
  {
   "cell_type": "markdown",
   "metadata": {},
   "source": [
    "- open bid auctionは動的に見えるかもしれないが、本来静的であり、sealed bid auctionと同様。"
   ]
  },
  {
   "cell_type": "markdown",
   "metadata": {},
   "source": [
    "The Dutch auction ends right after the first bid, so bidders do not receive any additional information during the process and can decide on a bid in advance."
   ]
  },
  {
   "cell_type": "markdown",
   "metadata": {},
   "source": [
    "- Dutch Auctionは1回誰かがbidした瞬間に終わり。そのためbidderは追加の情報が得られない。あらかじめbidを考えておく。"
   ]
  },
  {
   "cell_type": "markdown",
   "metadata": {},
   "source": [
    "Consequently, a Dutch auction is equivalent to a first-price sealed-bid auction in the sense that,whatever strategy the bidder chooses, it uses the same inputs and leads to the same win- ners and prices, both for private and interdependent values."
   ]
  },
  {
   "cell_type": "markdown",
   "metadata": {},
   "source": [
    "- その結果、DutchAuctionは初値の、隠されたbidのオークションと同等である。というのも、bidderがどんな戦略を取ろうとも、"
   ]
  },
  {
   "cell_type": "markdown",
   "metadata": {},
   "source": [
    "In an English auction with private values, the bidder can also evaluate the item in advance."
   ]
  },
  {
   "cell_type": "markdown",
   "metadata": {},
   "source": [
    "- private valueのEnglishAuctionでは、bidderはアイテムを前もって評価できる"
   ]
  },
  {
   "cell_type": "markdown",
   "metadata": {},
   "source": [
    "As the auction progresses and the price goes up, the bidder should always compare the current highest bid with the estimated value and either make a new bid, calculated as the current highest plus some small increment, or quit the auction if the price has gone above his valuation."
   ]
  },
  {
   "cell_type": "markdown",
   "metadata": {},
   "source": [
    "- オークションが進み値段が上がると、bidderは現在の最高bidと見積もった価値を比較する。そしてさらに現在の最高価格にほんの少し上乗せしてbidするか、価格が自分の評価より上に行ってしまったらそのオークションを降りる。"
   ]
  },
  {
   "cell_type": "markdown",
   "metadata": {},
   "source": [
    "Hence, an English auction is equivalent to a second-price sealed bid auction for private values, although this is not true for interdependent values because the bidder can learn from the observed bids in the case of an English auction."
   ]
  },
  {
   "cell_type": "markdown",
   "metadata": {},
   "source": [
    "それゆえ、English Auctionは、「Second price sealed bid auction」を"
   ]
  },
  {
   "cell_type": "markdown",
   "metadata": {},
   "source": [
    "---\n",
    "---"
   ]
  },
  {
   "cell_type": "markdown",
   "metadata": {},
   "source": [
    "We now study the Vickrey auction in detail to obtain a toolkit for building optimization models that include auctions."
   ]
  },
  {
   "cell_type": "markdown",
   "metadata": {},
   "source": [
    "- オークションを含む最適化モデルの作るためのツールキットを得るために、Vickrey auctionの詳細について学ぶ。"
   ]
  },
  {
   "cell_type": "markdown",
   "metadata": {},
   "source": [
    "We focus on the Vickrey auction because it is convenient for analysis and widely used in practical applications, although similar results can be obtained for other auction types by using more advanced analysis methods."
   ]
  },
  {
   "cell_type": "markdown",
   "metadata": {},
   "source": [
    "- より応用的な分析手法を用いることで様々なオークションのタイプで似た結果を得ることができるが、分析に適していて、実用的なアプリケーションで広く使われているVickrey auctionにフォーカスする。"
   ]
  },
  {
   "cell_type": "markdown",
   "metadata": {},
   "source": [
    "---\n",
    "---"
   ]
  },
  {
   "cell_type": "markdown",
   "metadata": {},
   "source": [
    "First, we can prove that the optimal strategy for bidders is to bid their true value. "
   ]
  },
  {
   "cell_type": "markdown",
   "metadata": {},
   "source": [
    "- はじめに、「入札者にとって最適な戦略は、正しい価値に入札することである」ということを証明する"
   ]
  },
  {
   "cell_type": "markdown",
   "metadata": {},
   "source": [
    "Consider Figure 2.14, in which the bidder evaluates the item at a price v but makes a lower bid v - δ. If the second highest bid from another bidder is p, then the following three outcomes are possible:"
   ]
  },
  {
   "cell_type": "markdown",
   "metadata": {},
   "source": [
    "- 入札者はitemをvという価格で見積もっていたが、若干低い入札を入れた。他の入札者による、2番目に高い入札をpとすると、次の3つの結果が考えられる"
   ]
  },
  {
   "cell_type": "markdown",
   "metadata": {},
   "source": [
    "1. p > v: the bidder loses; it does not matter if he bids v or v - δ\n",
    "2. p < v - δ: the bidder wins and pays price p; it does not matter if\n",
    "he bids v or v   δ\n",
    "3. v -δ < p < v: the bidder loses; a bid of v would have meant winning and making a margin of v - p"
   ]
  },
  {
   "cell_type": "markdown",
   "metadata": {},
   "source": [
    "1. pがvより大きい場合: 入札者は負ける。入札者の入札額がvかv- δかは関係ない。\n",
    "2. pがv-δより小さい場合：入札者は勝ち、金額pを支払う。入札者の入札額がvかv- δかは関係ない。\n",
    "3. v -δ < p < v: 入札者は負ける。vで入札していたら勝てただろうし、v-pの利ざやを稼ぐことができただろう。"
   ]
  },
  {
   "cell_type": "markdown",
   "metadata": {},
   "source": [
    "# 71\n",
    "---\n",
    "---"
   ]
  },
  {
   "cell_type": "markdown",
   "metadata": {},
   "source": [
    "So, a bid below the true value always gives the same or a worse result as a bid of the true value. Figure 2.15 depicts the opposite situation, when the bid is above the true value. We again have three possible outcomes:"
   ]
  },
  {
   "cell_type": "markdown",
   "metadata": {},
   "source": [
    "- 適正価格より低い入札は、適正価格の入札と比べて常に同じ・または悪い結果となる。\n",
    "- 図の2.15は逆の状況を描いている。入札が適正価格よりも高い場合だ。改めて、3つの結果が得られる。\n",
    "- (vが適正価格なのに、v+δで入札している場合)"
   ]
  },
  {
   "cell_type": "markdown",
   "metadata": {},
   "source": [
    "1. p > v + δ: the bidder loses; it does not matter if he bids v or v + δ\n",
    "2. p < v: the bidder wins and pays the price p; it does not matter if he bids v or v + δ\n",
    "3. v < p < v+δ: the bidder wins and pays the price p with a loss of p - v, whereas a bid of v would mean losing the auction without any financial loss"
   ]
  },
  {
   "cell_type": "markdown",
   "metadata": {},
   "source": [
    "1. 他の人の入札額がv+δより大きい場合： 入札者は負ける。vを入札するか、v+δを入札するかは関係ない\n",
    "2. 他の人の入札額がvより小さい場合: 入札者は勝ち、金額pを支払う。vを入札するか、v+δを入札するかは関係ない\n",
    "3. v < p < v+δ: 入札者は勝ち、金額pを支払い、pーvの損失を得るが、vでの入札は経済損失なくオークションに負けることを意味する"
   ]
  },
  {
   "cell_type": "markdown",
   "metadata": {},
   "source": [
    "---\n",
    "---"
   ]
  },
  {
   "cell_type": "markdown",
   "metadata": {},
   "source": [
    "We can conclude that bidding the true value is the optimal strategy. This simple result implies that we need to focus on estimation of the expected revenue for the bidder when discussing marketing settings with sealed-bid auctions."
   ]
  },
  {
   "cell_type": "markdown",
   "metadata": {},
   "source": [
    "- 適正価格で入札するのが最適な戦略であると結論づけることができる。\n",
    "- この単純な結論は、隠されたbidのオークションのま＝ケティングの設定について話す際に、想定収入の推定に集中する必要があることを暗示している。"
   ]
  },
  {
   "cell_type": "markdown",
   "metadata": {},
   "source": [
    "---\n",
    "---"
   ]
  },
  {
   "cell_type": "markdown",
   "metadata": {},
   "source": [
    "Our next step will be to take the seller’s perspective of the auction and estimate the revenue for the seller."
   ]
  },
  {
   "cell_type": "markdown",
   "metadata": {},
   "source": [
    "- 次のステップはオークションにおける売り手の観点をとり、売り手の収入を推定することだ。"
   ]
  },
  {
   "cell_type": "markdown",
   "metadata": {},
   "source": [
    "Let us assume that there are n bidders participating in the auction and their bid prices V1 , . . . , Vn are independent and identically distributed random values drawn from some distribution F(v) with the probability density f(v)."
   ]
  },
  {
   "cell_type": "markdown",
   "metadata": {},
   "source": [
    "- n人の入札者がオークションに参加していて、彼らの入札額がV1...Vnとする。確率密度fの分布Fからランダムに取られた、独立の、同様に分散した値である。"
   ]
  },
  {
   "cell_type": "markdown",
   "metadata": {},
   "source": [
    "By recalling that k-th order statistic V(k) of a sample is equal to its k-th smallest value, we can express the expected revenue as the mean of the second- highest order statistic that corresponds to the second-highest bid:\n",
    "revenue   E  V   (2.134) pn 1q"
   ]
  },
  {
   "cell_type": "markdown",
   "metadata": {},
   "source": [
    "- サンプルのk番目の順序統計量 V(k)をk番目に小さい値と等しいとすると、想定収入は、2番目に高い入札に対応する、2番目に高い順序統計量の平均と表現することができる。\n",
    "- revenue = E[V_n-1]"
   ]
  },
  {
   "cell_type": "markdown",
   "metadata": {},
   "source": [
    "Let us consider a slice of the probability density function for the order statistics:\n",
    "P(v < V(k) < v + dv) (2.135)"
   ]
  },
  {
   "cell_type": "markdown",
   "metadata": {},
   "source": [
    "- 順序統計量の確率密度関数のスライスについて考えて見ましょう。"
   ]
  },
  {
   "cell_type": "markdown",
   "metadata": {},
   "source": [
    "This is the probability that k - 1 bids in the sample of n bids are smaller than v, exactly one bid falls into the range rv, v   dvs, and the remaining n - k bids are higher than v."
   ]
  },
  {
   "cell_type": "markdown",
   "metadata": {},
   "source": [
    "- "
   ]
  },
  {
   "cell_type": "markdown",
   "metadata": {},
   "source": [
    "These three conditions can be expressed by using the bid cumulative distribution F(v) and probability density f(v), so we get the following expression for the order statistics probability density:\n",
    "(2.136)"
   ]
  },
  {
   "cell_type": "markdown",
   "metadata": {},
   "source": [
    "- "
   ]
  },
  {
   "cell_type": "markdown",
   "metadata": {},
   "source": [
    "We can simplify this expression with certain assumptions regarding the bid distribution. For example, if bids are drawn from a uniform distribution between zero and one, the expression reduces to\n",
    "f  V     n! vk 1p1   vqn k (2.137) pkq pk   1q!pn   kq!"
   ]
  },
  {
   "cell_type": "markdown",
   "metadata": {},
   "source": [
    " This is a beta distribution, so we can use a standard formula for its mean to get the expected revenue of the auctioneer:\n",
    "E  V     n   1 (2.138) pn 1q n   1"
   ]
  },
  {
   "cell_type": "markdown",
   "metadata": {},
   "source": [
    " This result is in alignment with the intuitive expectation that an in- crease in the number of bidders leads to an overall increase in the rev- enue. We use these results in subsequent chapters, mainly to optimize the bidding process for exchanges. It is worth noting, however, that other marketing processes, including such important ones as the selec- tion of the best offers on the market by a consumer, can be modeled as auctions, which makes auction theory an important tool for building programmatic solutions.\n",
    " "
   ]
  },
  {
   "cell_type": "markdown",
   "metadata": {},
   "source": [
    "---\n",
    "---"
   ]
  },
  {
   "cell_type": "markdown",
   "metadata": {},
   "source": [
    "2.7 summary\n",
    "• Many marketing problems can be expressed as optimization prob- lems in which the business outcome is the subject of optimization and the business actions are the variables."
   ]
  },
  {
   "cell_type": "markdown",
   "metadata": {},
   "source": [
    "• The dependency between the actions and business outcomes can often be learned from historical data. This problem can be solved by using supervised learning methods."
   ]
  },
  {
   "cell_type": "markdown",
   "metadata": {},
   "source": [
    "• The primary goal of supervised learning is to estimate the condi- tional distribution of the response given the input. In many practical applications, this problem can be reduced to finding the most proba- ble outcome values. The main two types of supervised problems are classification and regression."
   ]
  },
  {
   "cell_type": "markdown",
   "metadata": {},
   "source": [
    "• Thenumberofpredictivemodelparameterscanbefixedorcangrow with the size of the training data set. The former type of model is referred to as a parametric model, and the latter is known as a nonparametric model."
   ]
  },
  {
   "cell_type": "markdown",
   "metadata": {},
   "source": [
    "• Model fitting can be viewed as an optimization problem where the model parameters need to be chosen to maximize the probability that the observed data follows the model distribution."
   ]
  },
  {
   "cell_type": "markdown",
   "metadata": {},
   "source": [
    "• A wide range of supervised learning problems can be addressed by linear models, that is, models that either express the dependency between the input and output as a linear function or express the boundary between the classes as a straight line. The most basic ex- amples of linear models are linear regression and logistic regression."
   ]
  },
  {
   "cell_type": "markdown",
   "metadata": {},
   "source": [
    "• Nonlinear dependencies and decision boundaries can be captured by using nonlinear models. Examples of nonlinear modeling meth- ods include kernel methods, decision trees, and neural networks."
   ]
  },
  {
   "cell_type": "markdown",
   "metadata": {},
   "source": [
    "• Marketing data may have a redundant structure because different features and metrics are projections of the same marketing process. This structure can be nonoptimal for analysis and modeling, and a better data representation can be found by removing correlations, reducing data dimensionality, and clustering data points and enti- ties. Some of these tasks can be solved with unsupervised learning methods, such as principal component analysis and clustering."
   ]
  },
  {
   "cell_type": "markdown",
   "metadata": {},
   "source": [
    "• Some marketing tasks cannot be easily solved by using standard ma- chine learning methods and require more specialized models and techniques. Examples of such models include consumer choice mod- els, survival analysis methods, and auction theory."
   ]
  },
  {
   "cell_type": "code",
   "execution_count": null,
   "metadata": {},
   "outputs": [],
   "source": []
  },
  {
   "cell_type": "code",
   "execution_count": null,
   "metadata": {},
   "outputs": [],
   "source": []
  },
  {
   "cell_type": "code",
   "execution_count": null,
   "metadata": {},
   "outputs": [],
   "source": []
  }
 ],
 "metadata": {
  "kernelspec": {
   "display_name": "Python 3",
   "language": "python",
   "name": "python3"
  },
  "language_info": {
   "codemirror_mode": {
    "name": "ipython",
    "version": 3
   },
   "file_extension": ".py",
   "mimetype": "text/x-python",
   "name": "python",
   "nbconvert_exporter": "python",
   "pygments_lexer": "ipython3",
   "version": "3.6.3"
  }
 },
 "nbformat": 4,
 "nbformat_minor": 2
}
